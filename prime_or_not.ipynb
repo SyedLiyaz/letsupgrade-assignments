{
  "nbformat": 4,
  "nbformat_minor": 0,
  "metadata": {
    "colab": {
      "provenance": [],
      "collapsed_sections": [],
      "toc_visible": true,
      "authorship_tag": "ABX9TyOL6/gWW6dFWYjGgHTyvjWs",
      "include_colab_link": true
    },
    "kernelspec": {
      "name": "python3",
      "display_name": "Python 3"
    },
    "language_info": {
      "name": "python"
    }
  },
  "cells": [
    {
      "cell_type": "markdown",
      "metadata": {
        "id": "view-in-github",
        "colab_type": "text"
      },
      "source": [
        "<a href=\"https://colab.research.google.com/github/SyedLiyaz/letsupgrade-assignments/blob/main/prime_or_not.ipynb\" target=\"_parent\"><img src=\"https://colab.research.google.com/assets/colab-badge.svg\" alt=\"Open In Colab\"/></a>"
      ]
    },
    {
      "cell_type": "code",
      "execution_count": 1,
      "metadata": {
        "id": "JiBKixiejxN8",
        "colab": {
          "base_uri": "https://localhost:8080/"
        },
        "outputId": "5ac724da-0bf3-4c82-983b-5b50469fed2d"
      },
      "outputs": [
        {
          "output_type": "stream",
          "name": "stdout",
          "text": [
            "Enter a Number: 3\n",
            "\n",
            "3 is a Prime Number\n"
          ]
        }
      ],
      "source": [
        "def checkPrime(x):\n",
        "    for i in range(2, x):\n",
        "        if n%i==0:\n",
        "            return 1\n",
        "\n",
        "print(\"Enter a Number: \", end=\"\")\n",
        "n = int(input())\n",
        "\n",
        "p = checkPrime(n)\n",
        "if p==1:\n",
        "    print(\"\\n\" +str(n)+ \" is not a Prime Number\")\n",
        "else:\n",
        "    print(\"\\n\" +str(n)+ \" is a Prime Number\")"
      ]
    }
  ]
}